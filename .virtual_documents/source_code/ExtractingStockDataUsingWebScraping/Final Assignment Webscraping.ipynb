











!pip install pandas
!pip install requests
!pip install bs4
!pip install html5lib 
!pip install lxml
!pip install plotly


import pandas as pd
import requests
from bs4 import BeautifulSoup





import warnings
# Ignore all warnings
warnings.filterwarnings("ignore", category=FutureWarning)























url = "https://cf-courses-data.s3.us.cloud-object-storage.appdomain.cloud/IBMDeveloperSkillsNetwork-PY0220EN-SkillsNetwork/labs/project/netflix_data_webpage.html"





data  = requests.get(url).text
print(data)














soup = BeautifulSoup(data, 'html.parser')











netflix_data = pd.DataFrame(columns=["Date", "Open", "High", "Low", "Close", "Volume"])











# First we isolate the body of the table which contains all the information
# Then we loop through each row and find all the column values for each row
for row in soup.find("tbody").find_all('tr'):
    col = row.find_all("td")
    date = col[0].text
    Open = col[1].text
    high = col[2].text
    low = col[3].text
    close = col[4].text
    adj_close = col[5].text
    volume = col[6].text
    
    # Finally we append the data of each row to the table
    netflix_data = pd.concat([netflix_data,pd.DataFrame({"Date":[date], "Open":[Open], "High":[high], "Low":[low], "Close":[close], "Adj Close":[adj_close], "Volume":[volume]})], ignore_index=True)    








netflix_data.head()











read_html_pandas_data = pd.read_html(url)





read_html_pandas_data = pd.read_html(str(soup))





netflix_dataframe = read_html_pandas_data[0]

netflix_dataframe.head()








url = "https://cf-courses-data.s3.us.cloud-object-storage.appdomain.cloud/IBMDeveloperSkillsNetwork-PY0220EN-SkillsNetwork/labs/project/amazon_data_webpage.html"
html_data = requests.get(url).text
print(html_data)





soup = BeautifulSoup(html_data,'html.parser')
print(soup)





soup.title





amazon_data = pd.DataFrame(columns=["Date", "Open", "High", "Low", "Close", "Volume"])

for row in soup.find("tbody").find_all("tr"):
    col = row.find_all("td")
    date = col[0] #ADD_CODE
    Open = col[1] #ADD_CODE
    high = col[2] #ADD_CODE
    low = col[3] #ADD_CODE
    close = col[4] #ADD_CODE
    adj_close = col[5] #ADD_CODE
    volume = col[5] #ADD_CODE
    
    amazon_data = pd.concat([amazon_data, pd.DataFrame({"Date":[date], "Open":[Open], "High":[high], "Low":[low], "Close":[close], "Adj Close":[adj_close], "Volume":[volume]})], ignore_index=True)





amazon_data.head()





print(amazon_data.columns)





amazon_data.tail()
amazon_data.iloc[-1,-1]






